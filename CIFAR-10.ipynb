{
  "cells": [
    {
      "cell_type": "markdown",
      "metadata": {
        "id": "8j5fNrxhnLx1"
      },
      "source": [
        "## 1- Import Libraries"
      ]
    },
    {
      "cell_type": "code",
      "execution_count": null,
      "metadata": {
        "colab": {
          "base_uri": "https://localhost:8080/"
        },
        "collapsed": true,
        "id": "EOOTfSxlnvHM",
        "outputId": "6d179fc2-1133-402a-adc3-773311ff38fa"
      },
      "outputs": [],
      "source": [
        "!pip install keras_tuner"
      ]
    },
    {
      "cell_type": "code",
      "execution_count": 5,
      "metadata": {
        "id": "6BtwiRpfmtZJ"
      },
      "outputs": [],
      "source": [
        "import time\n",
        "import numpy as np\n",
        "import pandas as pd\n",
        "import keras_tuner as kt\n",
        "from tensorflow import keras\n",
        "from tensorflow.keras import layers\n",
        "from keras.utils import to_categorical\n",
        "from tensorflow.keras.datasets import cifar10\n",
        "from sklearn.model_selection import train_test_split\n",
        "from sklearn.metrics import accuracy_score, f1_score, roc_auc_score"
      ]
    },
    {
      "cell_type": "markdown",
      "metadata": {
        "id": "h3C7PUW1n5Oy"
      },
      "source": [
        "## 2- Load and Inspect Dataset"
      ]
    },
    {
      "cell_type": "code",
      "execution_count": 6,
      "metadata": {
        "colab": {
          "base_uri": "https://localhost:8080/"
        },
        "id": "o1nHOci8nn_F",
        "outputId": "55b26c99-64db-4e15-955f-a0a98e28cd23"
      },
      "outputs": [
        {
          "name": "stdout",
          "output_type": "stream",
          "text": [
            "Downloading data from https://www.cs.toronto.edu/~kriz/cifar-10-python.tar.gz\n",
            "\u001b[1m170498071/170498071\u001b[0m \u001b[32m━━━━━━━━━━━━━━━━━━━━\u001b[0m\u001b[37m\u001b[0m \u001b[1m8s\u001b[0m 0us/step\n",
            "x_train shape: (50000, 32, 32, 3) y_train shape: (50000, 1)\n",
            "x_test shape: (10000, 32, 32, 3) y_test shape: (10000, 1)\n"
          ]
        }
      ],
      "source": [
        "(x_train, y_train), (x_test, y_test) = cifar10.load_data()\n",
        "\n",
        "print(\"x_train shape:\", x_train.shape, \"y_train shape:\", y_train.shape)\n",
        "print(\"x_test shape:\", x_test.shape, \"y_test shape:\", y_test.shape)"
      ]
    },
    {
      "cell_type": "markdown",
      "metadata": {
        "id": "Blv4jKXNoePp"
      },
      "source": [
        "### 1- Combine and Train/Test Split"
      ]
    },
    {
      "cell_type": "markdown",
      "metadata": {
        "id": "t-dd5b5bou4J"
      },
      "source": [
        "15% test / 85% train+val"
      ]
    },
    {
      "cell_type": "code",
      "execution_count": 7,
      "metadata": {
        "id": "LiExPWmgoDsB"
      },
      "outputs": [],
      "source": [
        "x_all = np.concatenate([x_train, x_test])\n",
        "y_all = np.concatenate([y_train, y_test])\n",
        "\n",
        "x_train_val, x_test, y_train_val, y_test = train_test_split(x_all, y_all, test_size=0.15, random_state=42)\n",
        "x_train, x_val, y_train, y_val = train_test_split(x_train_val, y_train_val, test_size=0.2, random_state=42)"
      ]
    },
    {
      "cell_type": "markdown",
      "metadata": {
        "id": "4EMGFIaNpber"
      },
      "source": [
        "### 2- Normalize Pixel Values"
      ]
    },
    {
      "cell_type": "code",
      "execution_count": 8,
      "metadata": {
        "id": "ut8esdPspV3v"
      },
      "outputs": [],
      "source": [
        "x_train, x_val, x_test = x_train / 255.0, x_val / 255.0, x_test / 255.0"
      ]
    },
    {
      "cell_type": "markdown",
      "metadata": {
        "id": "LjF8OxZApszP"
      },
      "source": [
        "### 3- Convert  labels to on-hot fot CategoricalCrossentropy"
      ]
    },
    {
      "cell_type": "code",
      "execution_count": 9,
      "metadata": {
        "id": "UpwvEhNppoHm"
      },
      "outputs": [],
      "source": [
        "y_train_cat = to_categorical(y_train, 10)\n",
        "y_val_cat = to_categorical(y_val, 10)\n",
        "y_test_cat = to_categorical(y_test, 10)"
      ]
    },
    {
      "cell_type": "markdown",
      "metadata": {
        "id": "q2mjnhEKqS2a"
      },
      "source": [
        "## 2- Define Model"
      ]
    },
    {
      "cell_type": "code",
      "execution_count": 10,
      "metadata": {
        "id": "FBGnAVs3qAv6"
      },
      "outputs": [],
      "source": [
        "def build_deep_model():\n",
        "    model = keras.Sequential([\n",
        "\n",
        "        layers.Conv2D(32, (3, 3), activation='relu', input_shape=(32, 32, 3)),\n",
        "        layers.MaxPooling2D((2, 2)),\n",
        "\n",
        "        layers.Conv2D(64, (3, 3), activation='relu'),\n",
        "        layers.MaxPooling2D((2, 2)),\n",
        "\n",
        "        layers.Conv2D(64, (3, 3), activation='relu'),\n",
        "        layers.Flatten(),\n",
        "\n",
        "        layers.Dense(64, activation='relu'),\n",
        "        layers.Dense(10, activation='softmax')\n",
        "    ])\n",
        "\n",
        "    model.compile(optimizer='adam', loss='categorical_crossentropy', metrics=['accuracy'])\n",
        "\n",
        "    return model"
      ]
    },
    {
      "cell_type": "markdown",
      "metadata": {
        "id": "Cj4B0FAysEiL"
      },
      "source": [
        "## 3- Train and Fit Model"
      ]
    },
    {
      "cell_type": "code",
      "execution_count": 11,
      "metadata": {
        "colab": {
          "base_uri": "https://localhost:8080/"
        },
        "id": "5mnWY39prmmx",
        "outputId": "93f9c923-999c-4cd9-b3a4-f73f83d8e44c"
      },
      "outputs": [
        {
          "name": "stderr",
          "output_type": "stream",
          "text": [
            "/usr/local/lib/python3.11/dist-packages/keras/src/layers/convolutional/base_conv.py:107: UserWarning: Do not pass an `input_shape`/`input_dim` argument to a layer. When using Sequential models, prefer using an `Input(shape)` object as the first layer in the model instead.\n",
            "  super().__init__(activity_regularizer=activity_regularizer, **kwargs)\n"
          ]
        },
        {
          "name": "stdout",
          "output_type": "stream",
          "text": [
            "Epoch 1/10\n",
            "\u001b[1m1275/1275\u001b[0m \u001b[32m━━━━━━━━━━━━━━━━━━━━\u001b[0m\u001b[37m\u001b[0m \u001b[1m58s\u001b[0m 44ms/step - accuracy: 0.3281 - loss: 1.8093 - val_accuracy: 0.5160 - val_loss: 1.3259\n",
            "Epoch 2/10\n",
            "\u001b[1m1275/1275\u001b[0m \u001b[32m━━━━━━━━━━━━━━━━━━━━\u001b[0m\u001b[37m\u001b[0m \u001b[1m55s\u001b[0m 43ms/step - accuracy: 0.5500 - loss: 1.2593 - val_accuracy: 0.6107 - val_loss: 1.0965\n",
            "Epoch 3/10\n",
            "\u001b[1m1275/1275\u001b[0m \u001b[32m━━━━━━━━━━━━━━━━━━━━\u001b[0m\u001b[37m\u001b[0m \u001b[1m83s\u001b[0m 44ms/step - accuracy: 0.6182 - loss: 1.0850 - val_accuracy: 0.6248 - val_loss: 1.0630\n",
            "Epoch 4/10\n",
            "\u001b[1m1275/1275\u001b[0m \u001b[32m━━━━━━━━━━━━━━━━━━━━\u001b[0m\u001b[37m\u001b[0m \u001b[1m82s\u001b[0m 44ms/step - accuracy: 0.6547 - loss: 0.9802 - val_accuracy: 0.6458 - val_loss: 1.0153\n",
            "Epoch 5/10\n",
            "\u001b[1m1275/1275\u001b[0m \u001b[32m━━━━━━━━━━━━━━━━━━━━\u001b[0m\u001b[37m\u001b[0m \u001b[1m81s\u001b[0m 44ms/step - accuracy: 0.6843 - loss: 0.9054 - val_accuracy: 0.6687 - val_loss: 0.9592\n",
            "Epoch 6/10\n",
            "\u001b[1m1275/1275\u001b[0m \u001b[32m━━━━━━━━━━━━━━━━━━━━\u001b[0m\u001b[37m\u001b[0m \u001b[1m85s\u001b[0m 46ms/step - accuracy: 0.6994 - loss: 0.8517 - val_accuracy: 0.6808 - val_loss: 0.9136\n",
            "Epoch 7/10\n",
            "\u001b[1m1275/1275\u001b[0m \u001b[32m━━━━━━━━━━━━━━━━━━━━\u001b[0m\u001b[37m\u001b[0m \u001b[1m80s\u001b[0m 45ms/step - accuracy: 0.7237 - loss: 0.7924 - val_accuracy: 0.6905 - val_loss: 0.8935\n",
            "Epoch 8/10\n",
            "\u001b[1m1275/1275\u001b[0m \u001b[32m━━━━━━━━━━━━━━━━━━━━\u001b[0m\u001b[37m\u001b[0m \u001b[1m80s\u001b[0m 43ms/step - accuracy: 0.7400 - loss: 0.7394 - val_accuracy: 0.6932 - val_loss: 0.8866\n",
            "Epoch 9/10\n",
            "\u001b[1m1275/1275\u001b[0m \u001b[32m━━━━━━━━━━━━━━━━━━━━\u001b[0m\u001b[37m\u001b[0m \u001b[1m55s\u001b[0m 43ms/step - accuracy: 0.7561 - loss: 0.6908 - val_accuracy: 0.6872 - val_loss: 0.9379\n",
            "Epoch 10/10\n",
            "\u001b[1m1275/1275\u001b[0m \u001b[32m━━━━━━━━━━━━━━━━━━━━\u001b[0m\u001b[37m\u001b[0m \u001b[1m83s\u001b[0m 44ms/step - accuracy: 0.7731 - loss: 0.6383 - val_accuracy: 0.6922 - val_loss: 0.9377\n"
          ]
        },
        {
          "data": {
            "text/plain": [
              "<keras.src.callbacks.history.History at 0x7a7611d65450>"
            ]
          },
          "execution_count": 11,
          "metadata": {},
          "output_type": "execute_result"
        }
      ],
      "source": [
        "deep_model = build_deep_model()\n",
        "\n",
        "deep_model.fit(x_train, y_train_cat, epochs=10, validation_data=(x_val, y_val_cat), batch_size=32, verbose=1)"
      ]
    },
    {
      "cell_type": "markdown",
      "metadata": {
        "id": "uVDRSuwyvyYj"
      },
      "source": [
        "## 4- Tune Hyperparameters with KerasTuner"
      ]
    },
    {
      "cell_type": "code",
      "execution_count": 12,
      "metadata": {
        "id": "FvVrsW4jscR5"
      },
      "outputs": [],
      "source": [
        "def build_tuned_model(hp):\n",
        "    model = keras.Sequential([\n",
        "\n",
        "        layers.Conv2D(hp.Int('filters1', 32, 128, step=32), (3, 3), activation='relu', input_shape=(32, 32, 3)),\n",
        "        layers.MaxPooling2D((2, 2)),\n",
        "\n",
        "        layers.Conv2D(hp.Int('filters2', 32, 128, step=32), (3, 3), activation='relu'),\n",
        "        layers.MaxPooling2D((2, 2)),\n",
        "\n",
        "        layers.Conv2D(hp.Int('filters3', 32, 128, step=32), (3, 3), activation='relu'),\n",
        "        layers.Flatten(),\n",
        "\n",
        "        layers.Dense(hp.Int('dense_units', 32, 128, step=32), activation='relu'),\n",
        "        layers.Dense(10, activation='softmax')\n",
        "    ])\n",
        "\n",
        "    model.compile(optimizer=keras.optimizers.Adam(hp.Float('lr', 1e-4, 1e-2, sampling='log')),\n",
        "                  loss='categorical_crossentropy', metrics=['accuracy'])\n",
        "\n",
        "    return model"
      ]
    },
    {
      "cell_type": "code",
      "execution_count": 13,
      "metadata": {
        "colab": {
          "base_uri": "https://localhost:8080/"
        },
        "id": "s-xWm-99zO1y",
        "outputId": "62362b0b-de56-424f-e5fc-3a53889300ba"
      },
      "outputs": [
        {
          "name": "stdout",
          "output_type": "stream",
          "text": [
            "Trial 5 Complete [00h 11m 54s]\n",
            "val_accuracy: 0.6694117784500122\n",
            "\n",
            "Best val_accuracy So Far: 0.686274528503418\n",
            "Total elapsed time: 01h 02m 27s\n",
            "Tuning Time: 3746.76 seconds\n"
          ]
        },
        {
          "name": "stderr",
          "output_type": "stream",
          "text": [
            "/usr/local/lib/python3.11/dist-packages/keras/src/saving/saving_lib.py:757: UserWarning: Skipping variable loading for optimizer 'adam', because it has 2 variables whereas the saved optimizer has 22 variables. \n",
            "  saveable.load_own_variables(weights_store.get(inner_path))\n"
          ]
        }
      ],
      "source": [
        "tuner = kt.RandomSearch(build_tuned_model, objective='val_accuracy', max_trials=5, executions_per_trial=1)\n",
        "\n",
        "start_time = time.time()\n",
        "\n",
        "tuner.search(x_train, y_train_cat, epochs=5, validation_data=(x_val, y_val_cat))\n",
        "\n",
        "tuning_time = time.time() - start_time\n",
        "\n",
        "best_model = tuner.get_best_models(num_models=1)[0]\n",
        "\n",
        "print(f\"Tuning Time: {tuning_time:.2f} seconds\")"
      ]
    },
    {
      "cell_type": "markdown",
      "metadata": {
        "id": "TSTwRR-SF5hc"
      },
      "source": [
        "## 5- Evaluation"
      ]
    },
    {
      "cell_type": "code",
      "execution_count": 14,
      "metadata": {
        "id": "QcK1me9A0U3V"
      },
      "outputs": [],
      "source": [
        "def compute_metrics(model, x, y_true):\n",
        "\n",
        "    y_pred = model.predict(x)\n",
        "    y_pred_classes = np.argmax(y_pred, axis=1)\n",
        "    y_true_classes = np.argmax(y_true, axis=1)\n",
        "\n",
        "    acc = accuracy_score(y_true_classes, y_pred_classes)\n",
        "    f1 = f1_score(y_true_classes, y_pred_classes, average='weighted')\n",
        "    roc = roc_auc_score(y_true, y_pred, multi_class='ovr')\n",
        "\n",
        "    return acc, f1, roc"
      ]
    },
    {
      "cell_type": "markdown",
      "metadata": {
        "id": "01jMDsu7HDuW"
      },
      "source": [
        "### Deep Metrics"
      ]
    },
    {
      "cell_type": "code",
      "execution_count": 15,
      "metadata": {
        "colab": {
          "base_uri": "https://localhost:8080/"
        },
        "id": "38Up8U1JGtr2",
        "outputId": "5af8548d-41a8-42a3-e845-4cd8b5aad869"
      },
      "outputs": [
        {
          "name": "stdout",
          "output_type": "stream",
          "text": [
            "\u001b[1m1275/1275\u001b[0m \u001b[32m━━━━━━━━━━━━━━━━━━━━\u001b[0m\u001b[37m\u001b[0m \u001b[1m16s\u001b[0m 12ms/step\n",
            "\u001b[1m319/319\u001b[0m \u001b[32m━━━━━━━━━━━━━━━━━━━━\u001b[0m\u001b[37m\u001b[0m \u001b[1m5s\u001b[0m 15ms/step\n",
            "\u001b[1m282/282\u001b[0m \u001b[32m━━━━━━━━━━━━━━━━━━━━\u001b[0m\u001b[37m\u001b[0m \u001b[1m3s\u001b[0m 11ms/step\n"
          ]
        }
      ],
      "source": [
        "deep_metrics = {\n",
        "    \"Train\": compute_metrics(deep_model, x_train, y_train_cat),\n",
        "    \"Validation\": compute_metrics(deep_model, x_val, y_val_cat),\n",
        "    \"Test\": compute_metrics(deep_model, x_test, y_test_cat)\n",
        "}"
      ]
    },
    {
      "cell_type": "markdown",
      "metadata": {
        "id": "MIA6DOfIHJ5-"
      },
      "source": [
        "### Tuned Metrics"
      ]
    },
    {
      "cell_type": "code",
      "execution_count": 16,
      "metadata": {
        "colab": {
          "base_uri": "https://localhost:8080/"
        },
        "id": "1rJUhzovHBlf",
        "outputId": "f39e6dc6-e8ac-451b-a1d4-7819fc8e10b6"
      },
      "outputs": [
        {
          "name": "stdout",
          "output_type": "stream",
          "text": [
            "\u001b[1m1275/1275\u001b[0m \u001b[32m━━━━━━━━━━━━━━━━━━━━\u001b[0m\u001b[37m\u001b[0m \u001b[1m37s\u001b[0m 29ms/step\n",
            "\u001b[1m319/319\u001b[0m \u001b[32m━━━━━━━━━━━━━━━━━━━━\u001b[0m\u001b[37m\u001b[0m \u001b[1m10s\u001b[0m 30ms/step\n",
            "\u001b[1m282/282\u001b[0m \u001b[32m━━━━━━━━━━━━━━━━━━━━\u001b[0m\u001b[37m\u001b[0m \u001b[1m7s\u001b[0m 26ms/step\n"
          ]
        }
      ],
      "source": [
        "tuned_metrics = {\n",
        "    \"Train\": compute_metrics(best_model, x_train, y_train_cat),\n",
        "    \"Validation\": compute_metrics(best_model, x_val, y_val_cat),\n",
        "    \"Test\": compute_metrics(best_model, x_test, y_test_cat)\n",
        "}"
      ]
    },
    {
      "cell_type": "markdown",
      "metadata": {
        "id": "P2C5AEN-H7Fy"
      },
      "source": [
        "## 6- Wide and Deep Model"
      ]
    },
    {
      "cell_type": "code",
      "execution_count": 17,
      "metadata": {
        "id": "qFhootesHrrY"
      },
      "outputs": [],
      "source": [
        "def build_wide_deep_model():\n",
        "    inputs = layers.Input(shape=(32, 32, 3))\n",
        "\n",
        "    # wide path\n",
        "    wide = layers.Flatten()(inputs)\n",
        "    wide = layers.Dense(128, activation='relu')(wide)\n",
        "\n",
        "    # deep path\n",
        "    deep = layers.Conv2D(32, (3, 3), activation='relu')(inputs)\n",
        "    deep = layers.MaxPooling2D((2, 2))(deep)\n",
        "    deep = layers.Conv2D(64, (3, 3), activation='relu')(deep)\n",
        "    deep = layers.Flatten()(deep)\n",
        "    deep = layers.Dense(64, activation='relu')(deep)\n",
        "\n",
        "    # combine\n",
        "    combined = layers.concatenate([wide, deep])\n",
        "    output = layers.Dense(10, activation='softmax')(combined)\n",
        "\n",
        "    # define and compile model\n",
        "    model = keras.Model(inputs, output)\n",
        "    model.compile(optimizer='adam', loss='categorical_crossentropy', metrics=['accuracy'])\n",
        "\n",
        "    return model"
      ]
    },
    {
      "cell_type": "markdown",
      "metadata": {
        "id": "bVT4LdGOJnBa"
      },
      "source": [
        "### Fit Model"
      ]
    },
    {
      "cell_type": "code",
      "execution_count": 18,
      "metadata": {
        "colab": {
          "base_uri": "https://localhost:8080/"
        },
        "id": "WSYIgJBQJjGa",
        "outputId": "102b1a78-07ab-4c63-9dd1-37d0f5d5177c"
      },
      "outputs": [
        {
          "name": "stdout",
          "output_type": "stream",
          "text": [
            "Epoch 1/10\n",
            "\u001b[1m1275/1275\u001b[0m \u001b[32m━━━━━━━━━━━━━━━━━━━━\u001b[0m\u001b[37m\u001b[0m \u001b[1m66s\u001b[0m 50ms/step - accuracy: 0.3603 - loss: 1.7930 - val_accuracy: 0.5709 - val_loss: 1.1850\n",
            "Epoch 2/10\n",
            "\u001b[1m1275/1275\u001b[0m \u001b[32m━━━━━━━━━━━━━━━━━━━━\u001b[0m\u001b[37m\u001b[0m \u001b[1m80s\u001b[0m 49ms/step - accuracy: 0.5964 - loss: 1.1372 - val_accuracy: 0.6146 - val_loss: 1.1126\n",
            "Epoch 3/10\n",
            "\u001b[1m1275/1275\u001b[0m \u001b[32m━━━━━━━━━━━━━━━━━━━━\u001b[0m\u001b[37m\u001b[0m \u001b[1m84s\u001b[0m 51ms/step - accuracy: 0.6671 - loss: 0.9505 - val_accuracy: 0.6508 - val_loss: 0.9999\n",
            "Epoch 4/10\n",
            "\u001b[1m1275/1275\u001b[0m \u001b[32m━━━━━━━━━━━━━━━━━━━━\u001b[0m\u001b[37m\u001b[0m \u001b[1m81s\u001b[0m 49ms/step - accuracy: 0.7144 - loss: 0.8162 - val_accuracy: 0.6821 - val_loss: 0.9364\n",
            "Epoch 5/10\n",
            "\u001b[1m1275/1275\u001b[0m \u001b[32m━━━━━━━━━━━━━━━━━━━━\u001b[0m\u001b[37m\u001b[0m \u001b[1m63s\u001b[0m 49ms/step - accuracy: 0.7492 - loss: 0.7197 - val_accuracy: 0.6832 - val_loss: 0.9385\n",
            "Epoch 6/10\n",
            "\u001b[1m1275/1275\u001b[0m \u001b[32m━━━━━━━━━━━━━━━━━━━━\u001b[0m\u001b[37m\u001b[0m \u001b[1m83s\u001b[0m 50ms/step - accuracy: 0.7777 - loss: 0.6406 - val_accuracy: 0.6760 - val_loss: 0.9809\n",
            "Epoch 7/10\n",
            "\u001b[1m1275/1275\u001b[0m \u001b[32m━━━━━━━━━━━━━━━━━━━━\u001b[0m\u001b[37m\u001b[0m \u001b[1m83s\u001b[0m 51ms/step - accuracy: 0.8020 - loss: 0.5685 - val_accuracy: 0.6657 - val_loss: 1.0442\n",
            "Epoch 8/10\n",
            "\u001b[1m1275/1275\u001b[0m \u001b[32m━━━━━━━━━━━━━━━━━━━━\u001b[0m\u001b[37m\u001b[0m \u001b[1m81s\u001b[0m 50ms/step - accuracy: 0.8286 - loss: 0.4948 - val_accuracy: 0.6665 - val_loss: 1.1023\n",
            "Epoch 9/10\n",
            "\u001b[1m1275/1275\u001b[0m \u001b[32m━━━━━━━━━━━━━━━━━━━━\u001b[0m\u001b[37m\u001b[0m \u001b[1m85s\u001b[0m 53ms/step - accuracy: 0.8550 - loss: 0.4248 - val_accuracy: 0.6684 - val_loss: 1.1472\n",
            "Epoch 10/10\n",
            "\u001b[1m1275/1275\u001b[0m \u001b[32m━━━━━━━━━━━━━━━━━━━━\u001b[0m\u001b[37m\u001b[0m \u001b[1m78s\u001b[0m 49ms/step - accuracy: 0.8704 - loss: 0.3681 - val_accuracy: 0.6651 - val_loss: 1.2222\n"
          ]
        },
        {
          "data": {
            "text/plain": [
              "<keras.src.callbacks.history.History at 0x7a7682441910>"
            ]
          },
          "execution_count": 18,
          "metadata": {},
          "output_type": "execute_result"
        }
      ],
      "source": [
        "wide_deep_model = build_wide_deep_model()\n",
        "\n",
        "wide_deep_model.fit(x_train, y_train_cat, epochs=10, validation_data=(x_val, y_val_cat), batch_size=32, verbose=1)"
      ]
    },
    {
      "cell_type": "code",
      "execution_count": 20,
      "metadata": {
        "colab": {
          "base_uri": "https://localhost:8080/"
        },
        "id": "ygKGEvi5PP9K",
        "outputId": "7b3dd207-038c-4081-d60b-17de93ad754c"
      },
      "outputs": [
        {
          "name": "stdout",
          "output_type": "stream",
          "text": [
            "\u001b[1m1275/1275\u001b[0m \u001b[32m━━━━━━━━━━━━━━━━━━━━\u001b[0m\u001b[37m\u001b[0m \u001b[1m16s\u001b[0m 13ms/step\n",
            "\u001b[1m319/319\u001b[0m \u001b[32m━━━━━━━━━━━━━━━━━━━━\u001b[0m\u001b[37m\u001b[0m \u001b[1m5s\u001b[0m 16ms/step\n",
            "\u001b[1m282/282\u001b[0m \u001b[32m━━━━━━━━━━━━━━━━━━━━\u001b[0m\u001b[37m\u001b[0m \u001b[1m3s\u001b[0m 12ms/step\n"
          ]
        }
      ],
      "source": [
        "wide_deep_metrics = {\n",
        "    \"Train\": compute_metrics(wide_deep_model, x_train, y_train_cat),\n",
        "    \"Validation\": compute_metrics(wide_deep_model, x_val, y_val_cat),\n",
        "    \"Test\": compute_metrics(wide_deep_model, x_test, y_test_cat)\n",
        "}"
      ]
    },
    {
      "cell_type": "markdown",
      "metadata": {
        "id": "h7TfdxnoNtg3"
      },
      "source": [
        "## 7- Results"
      ]
    },
    {
      "cell_type": "code",
      "execution_count": 21,
      "metadata": {
        "colab": {
          "base_uri": "https://localhost:8080/"
        },
        "id": "_FOveeH4J-B-",
        "outputId": "1a3c3f94-f098-4902-af51-f15cae5c1ca2"
      },
      "outputs": [
        {
          "name": "stdout",
          "output_type": "stream",
          "text": [
            "\n",
            "Results Table:\n",
            "      Dataset  Deep Accuracy   Deep F1  Deep ROC-AUC  Tuned Accuracy  \\\n",
            "0       Train       0.772328  0.770789      0.976386        0.734314   \n",
            "1  Validation       0.692157  0.688466      0.951610        0.686275   \n",
            "2        Test       0.677778  0.674001      0.950641        0.679000   \n",
            "\n",
            "   Tuned F1  Tuned ROC-AUC  WideDeep Accuracy  WideDeep F1  WideDeep ROC-AUC  \n",
            "0  0.733140       0.965429           0.883260     0.883756          0.993977  \n",
            "1  0.684283       0.950662           0.665098     0.665201          0.943706  \n",
            "2  0.676458       0.949755           0.657333     0.657678          0.943391  \n"
          ]
        }
      ],
      "source": [
        "results = pd.DataFrame({\n",
        "    \"Dataset\": [\"Train\", \"Validation\", \"Test\"],\n",
        "    \"Deep Accuracy\": [deep_metrics[d][0] for d in deep_metrics],\n",
        "    \"Deep F1\": [deep_metrics[d][1] for d in deep_metrics],\n",
        "    \"Deep ROC-AUC\": [deep_metrics[d][2] for d in deep_metrics],\n",
        "\n",
        "    \"Tuned Accuracy\": [tuned_metrics[d][0] for d in tuned_metrics],\n",
        "    \"Tuned F1\": [tuned_metrics[d][1] for d in tuned_metrics],\n",
        "    \"Tuned ROC-AUC\": [tuned_metrics[d][2] for d in tuned_metrics],\n",
        "\n",
        "    \"WideDeep Accuracy\": [wide_deep_metrics[d][0] for d in wide_deep_metrics],\n",
        "    \"WideDeep F1\": [wide_deep_metrics[d][1] for d in wide_deep_metrics],\n",
        "    \"WideDeep ROC-AUC\": [wide_deep_metrics[d][2] for d in wide_deep_metrics]\n",
        "})\n",
        "\n",
        "print(\"\\nResults Table:\")\n",
        "print(results)"
      ]
    }
  ],
  "metadata": {
    "colab": {
      "provenance": []
    },
    "kernelspec": {
      "display_name": "Python 3",
      "name": "python3"
    },
    "language_info": {
      "name": "python"
    }
  },
  "nbformat": 4,
  "nbformat_minor": 0
}
